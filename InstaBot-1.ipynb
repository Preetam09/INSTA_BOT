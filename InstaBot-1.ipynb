{
 "cells": [
  {
   "cell_type": "markdown",
   "id": "7d7df9e9",
   "metadata": {},
   "source": [
    "### Importing all the modules required"
   ]
  },
  {
   "cell_type": "code",
   "execution_count": 2,
   "id": "448bbbc5",
   "metadata": {},
   "outputs": [
    {
     "ename": "ModuleNotFoundError",
     "evalue": "No module named 'selenium'",
     "output_type": "error",
     "traceback": [
      "\u001b[1;31m---------------------------------------------------------------------------\u001b[0m",
      "\u001b[1;31mModuleNotFoundError\u001b[0m                       Traceback (most recent call last)",
      "\u001b[1;32m~\\AppData\\Local\\Temp/ipykernel_10760/321309650.py\u001b[0m in \u001b[0;36m<module>\u001b[1;34m\u001b[0m\n\u001b[1;32m----> 1\u001b[1;33m \u001b[1;32mimport\u001b[0m \u001b[0mselenium\u001b[0m\u001b[1;33m\u001b[0m\u001b[1;33m\u001b[0m\u001b[0m\n\u001b[0m\u001b[0;32m      2\u001b[0m \u001b[1;32mimport\u001b[0m \u001b[0mtime\u001b[0m\u001b[1;33m\u001b[0m\u001b[1;33m\u001b[0m\u001b[0m\n\u001b[0;32m      3\u001b[0m \u001b[1;32mfrom\u001b[0m \u001b[0mbs4\u001b[0m \u001b[1;32mimport\u001b[0m \u001b[0mBeautifulSoup\u001b[0m \u001b[1;32mas\u001b[0m \u001b[0mbs\u001b[0m\u001b[1;33m\u001b[0m\u001b[1;33m\u001b[0m\u001b[0m\n\u001b[0;32m      4\u001b[0m \u001b[1;32mfrom\u001b[0m  \u001b[0mselenium\u001b[0m \u001b[1;32mimport\u001b[0m \u001b[0mwebdriver\u001b[0m\u001b[1;33m\u001b[0m\u001b[1;33m\u001b[0m\u001b[0m\n\u001b[0;32m      5\u001b[0m \u001b[1;32mfrom\u001b[0m \u001b[0mselenium\u001b[0m\u001b[1;33m.\u001b[0m\u001b[0mwebdriver\u001b[0m\u001b[1;33m.\u001b[0m\u001b[0mcommon\u001b[0m\u001b[1;33m.\u001b[0m\u001b[0mby\u001b[0m \u001b[1;32mimport\u001b[0m \u001b[0mBy\u001b[0m\u001b[1;33m\u001b[0m\u001b[1;33m\u001b[0m\u001b[0m\n",
      "\u001b[1;31mModuleNotFoundError\u001b[0m: No module named 'selenium'"
     ]
    }
   ],
   "source": [
    "import selenium\n",
    "import time\n",
    "from bs4 import BeautifulSoup as bs\n",
    "from  selenium import webdriver\n",
    "from selenium.webdriver.common.by import By\n",
    "from selenium.webdriver.support.select import Select\n",
    "from selenium.webdriver.support import expected_conditions as ec\n",
    "from selenium.webdriver.support.ui import WebDriverWait as wdw\n",
    "from selenium.common.exceptions import NoSuchElementException\n",
    "from selenium.common.exceptions import StaleElementReferenceException"
   ]
  },
  {
   "cell_type": "code",
   "execution_count": null,
   "id": "71161306",
   "metadata": {},
   "outputs": [],
   "source": [
    "driver = webdriver.Chrome(executable_path = 'chromedriver')\n",
    "driver.maximize_window()"
   ]
  },
  {
   "cell_type": "code",
   "execution_count": null,
   "id": "441ae8f6",
   "metadata": {},
   "outputs": [],
   "source": [
    "driver.get('https://www.instagram.com/')\n",
    "driver.implicitly_wait(3)"
   ]
  },
  {
   "cell_type": "markdown",
   "id": "450513c8",
   "metadata": {},
   "source": [
    "### Logging in to my instagram handle"
   ]
  },
  {
   "cell_type": "code",
   "execution_count": null,
   "id": "c7d9260c",
   "metadata": {},
   "outputs": [],
   "source": [
    "Sample_username = 'saikamal_17'\n",
    "Sample_password = 'Saikamal17'\n",
    "username = driver.find_element(By.NAME,'username')\n",
    "password = driver.find_element(By.NAME,'password')\n",
    "username.send_keys(Sample_username)\n",
    "password.send_keys(Sample_password)"
   ]
  },
  {
   "cell_type": "code",
   "execution_count": null,
   "id": "5330489c",
   "metadata": {},
   "outputs": [],
   "source": [
    "logIn = driver.find_element(By.CLASS_NAME , 'y3zKF')\n",
    "logIn.click()\n",
    "time.sleep(3)\n"
   ]
  },
  {
   "cell_type": "markdown",
   "id": "c2ef58ab",
   "metadata": {},
   "source": [
    "### Searching of the required data  and printing the handles"
   ]
  },
  {
   "cell_type": "code",
   "execution_count": null,
   "id": "f19f53a8",
   "metadata": {},
   "outputs": [],
   "source": [
    "text_input = driver.find_element(By.CLASS_NAME,'DljaH')\n",
    "text_input.send_keys('food')\n",
    "wait = wdw(driver,1000)\n",
    "c = wait.until(ec.presence_of_element_located((By.CLASS_NAME,'-qQT3')))\n"
   ]
  },
  {
   "cell_type": "code",
   "execution_count": null,
   "id": "c5b8067f",
   "metadata": {},
   "outputs": [],
   "source": [
    "html = driver.find_element(By.CLASS_NAME,'fuqBx')\n",
    "handles = html.get_attribute('innerHTML')\n",
    "data = bs(handles,'html.parser')\n",
    "for i in data.find_all(class_ = 'qyrsm'):\n",
    "    a = i.get_text()\n",
    "    if a[0] == '#':\n",
    "        continue\n",
    "    print(a)"
   ]
  },
  {
   "cell_type": "code",
   "execution_count": null,
   "id": "323b03cb",
   "metadata": {},
   "outputs": [],
   "source": [
    "clear = driver.find_element(By.CLASS_NAME,'coreSpriteSearchClear')\n",
    "clear.click()"
   ]
  },
  {
   "cell_type": "markdown",
   "id": "9396e495",
   "metadata": {},
   "source": [
    "### Searching and opening profile"
   ]
  },
  {
   "cell_type": "code",
   "execution_count": null,
   "id": "c0ed879d",
   "metadata": {},
   "outputs": [],
   "source": [
    "text_input = driver.find_element(By.CLASS_NAME,'DljaH')\n",
    "text_input.send_keys('So Delhi')\n",
    "wait = wdw(driver,1000)\n",
    "c = wait.until(ec.presence_of_element_located((By.CLASS_NAME,'-qQT3')))\n",
    "c.click()"
   ]
  },
  {
   "cell_type": "markdown",
   "id": "55114647",
   "metadata": {},
   "source": [
    "### Following and Unfollowing"
   ]
  },
  {
   "cell_type": "code",
   "execution_count": null,
   "id": "d6fb1af5",
   "metadata": {},
   "outputs": [],
   "source": [
    "follow_button = wait.until(ec.presence_of_element_located((By.XPATH,'//span[contains(@class,\"vBF20\")]/button')))\n",
    "if driver.find_element(By.XPATH,'//span[contains(@class,\"vBF20\")]/button').text == 'Follow':\n",
    "    follow = driver.find_element(By.CLASS_NAME,'_6VtSN')\n",
    "    follow.click()\n",
    "    obj = wait.until(ec.presence_of_element_located((By.CLASS_NAME,'_6VtSN')))\n",
    "    print('Following')\n",
    "else:\n",
    "    print('Already Following')\n"
   ]
  },
  {
   "cell_type": "code",
   "execution_count": null,
   "id": "0e2b5b34",
   "metadata": {},
   "outputs": [],
   "source": [
    "wait.until(ec.presence_of_element_located((By.XPATH,'//span[contains(@class,\"vBF20\")]/button')))\n",
    "try:\n",
    "    if driver.find_element(By.XPATH,'//span[contains(@class,\"glyphsSpriteFriend_Follow u-__7\")]').get_attribute('aria-label') == 'Following':\n",
    "        clk = wait.until(ec.element_to_be_clickable((By.CLASS_NAME,'_6VtSN')))\n",
    "        clk.click()\n",
    "        obj = wait.until(ec.presence_of_element_located((By.CLASS_NAME,'-Cab_')))\n",
    "        obj = wait.until(ec.element_to_be_clickable((By.CLASS_NAME,'-Cab_')))\n",
    "        obj.click()\n",
    "        print('Unfollowed')\n",
    "except NoSuchElementException:\n",
    "    print('Already Unfollowed')"
   ]
  },
  {
   "cell_type": "markdown",
   "id": "b8f3bfd8",
   "metadata": {},
   "source": [
    "### Like/Unlike of posts"
   ]
  },
  {
   "cell_type": "code",
   "execution_count": null,
   "id": "2ee3ad66",
   "metadata": {},
   "outputs": [],
   "source": [
    "text_input = driver.find_element(By.CLASS_NAME,'DljaH')\n",
    "text_input.send_keys('dilsefood')\n",
    "wait = wdw(driver,1000)\n",
    "c = wait.until(ec.presence_of_element_located((By.CLASS_NAME,'-qQT3')))\n",
    "c.click()\n"
   ]
  },
  {
   "cell_type": "code",
   "execution_count": 3,
   "id": "9ceab3b9",
   "metadata": {},
   "outputs": [
    {
     "ename": "NameError",
     "evalue": "name 'wait' is not defined",
     "output_type": "error",
     "traceback": [
      "\u001b[1;31m---------------------------------------------------------------------------\u001b[0m",
      "\u001b[1;31mNameError\u001b[0m                                 Traceback (most recent call last)",
      "\u001b[1;32m~\\AppData\\Local\\Temp/ipykernel_10760/1295987829.py\u001b[0m in \u001b[0;36m<module>\u001b[1;34m\u001b[0m\n\u001b[0;32m      1\u001b[0m \u001b[1;32mimport\u001b[0m \u001b[0mtime\u001b[0m\u001b[1;33m\u001b[0m\u001b[1;33m\u001b[0m\u001b[0m\n\u001b[1;32m----> 2\u001b[1;33m \u001b[0mwait\u001b[0m\u001b[1;33m.\u001b[0m\u001b[0muntil\u001b[0m\u001b[1;33m(\u001b[0m\u001b[0mec\u001b[0m\u001b[1;33m.\u001b[0m\u001b[0mpresence_of_all_elements_located\u001b[0m \u001b[1;33m(\u001b[0m\u001b[1;33m(\u001b[0m\u001b[0mBy\u001b[0m\u001b[1;33m.\u001b[0m\u001b[0mCLASS_NAME\u001b[0m\u001b[1;33m,\u001b[0m\u001b[1;34m'yUEEX'\u001b[0m\u001b[1;33m)\u001b[0m\u001b[1;33m)\u001b[0m\u001b[1;33m)\u001b[0m\u001b[1;33m\u001b[0m\u001b[1;33m\u001b[0m\u001b[0m\n\u001b[0m\u001b[0;32m      3\u001b[0m \u001b[0mhandles\u001b[0m \u001b[1;33m=\u001b[0m \u001b[1;33m[\u001b[0m\u001b[1;33m]\u001b[0m\u001b[1;33m\u001b[0m\u001b[1;33m\u001b[0m\u001b[0m\n\u001b[0;32m      4\u001b[0m \u001b[1;32mwhile\u001b[0m \u001b[1;32mTrue\u001b[0m \u001b[1;33m:\u001b[0m\u001b[1;33m\u001b[0m\u001b[1;33m\u001b[0m\u001b[0m\n\u001b[0;32m      5\u001b[0m     \u001b[0mhandles\u001b[0m\u001b[1;33m=\u001b[0m \u001b[0mdriver\u001b[0m\u001b[1;33m.\u001b[0m\u001b[0mfind_elements\u001b[0m\u001b[1;33m(\u001b[0m\u001b[0mBy\u001b[0m\u001b[1;33m.\u001b[0m\u001b[0mCLASS_NAME\u001b[0m\u001b[1;33m,\u001b[0m\u001b[1;34m'_9AhH0'\u001b[0m\u001b[1;33m)\u001b[0m\u001b[1;33m\u001b[0m\u001b[1;33m\u001b[0m\u001b[0m\n",
      "\u001b[1;31mNameError\u001b[0m: name 'wait' is not defined"
     ]
    }
   ],
   "source": [
    "import time\n",
    "wait.until(ec.presence_of_all_elements_located ((By.CLASS_NAME,'yUEEX')))\n",
    "handles = []\n",
    "while True :\n",
    "    handles= driver.find_elements(By.CLASS_NAME,'_9AhH0')\n",
    "    driver.execute_script('window.scrollBy(0, arguments[0]);',2000)\n",
    "    time.sleep(1)\n",
    "    if len(handles)>=30:\n",
    "        break\n",
    "time.sleep(1)\n",
    "driver.execute_script('window.scrollTo(0, 0);')\n",
    "handle = driver.find_elements(By.CLASS_NAME,'_9AhH0')\n",
    "print(len(handle))"
   ]
  },
  {
   "cell_type": "code",
   "execution_count": null,
   "id": "d122bf95",
   "metadata": {},
   "outputs": [],
   "source": [
    "wait.until(ec.presence_of_element_located((By.CLASS_NAME,'_9AhH0')))\n",
    "for i in handle[0:30]:\n",
    "    driver.execute_script('window.scrollBy(0,20)')\n",
    "    time.sleep(0.5)\n",
    "    i.click()\n",
    "    wait.until(ec.presence_of_element_located((By.CLASS_NAME,'fr66n')))\n",
    "    a = driver.find_element(By.XPATH,'//span[contains(@class,\"fr66n\")]/button//div/span').get_attribute('innerHTML')\n",
    "    time.sleep(1)\n",
    "    data = bs(a,'html.parser')\n",
    "    if data.svg['aria-label'] == 'Like':\n",
    "        like = driver.find_element(By.CLASS_NAME,'fr66n')\n",
    "        like.click()\n",
    "        print('liked')\n",
    "    else:\n",
    "        print('Already Liked!')\n",
    "    time.sleep(1)\n",
    "    driver.back()\n",
    "    time.sleep(1)"
   ]
  },
  {
   "cell_type": "code",
   "execution_count": null,
   "id": "2912993c",
   "metadata": {},
   "outputs": [],
   "source": [
    "time.sleep(1)\n",
    "for i in handle[0:30]:\n",
    "    i.click()\n",
    "    wait.until(ec.presence_of_element_located((By.CLASS_NAME,'fr66n')))\n",
    "    a = driver.find_element(By.XPATH,'//span[contains(@class,\"fr66n\")]/button//div/span').get_attribute('innerHTML')\n",
    "    data = bs(a,'html.parser')\n",
    "    if data.svg['aria-label'] == 'Unlike':\n",
    "        like = driver.find_element(By.CLASS_NAME,'fr66n')\n",
    "        like.click()\n",
    "        print('Unliked')\n",
    "    else:\n",
    "         print('Already Unliked!')                                      \n",
    "    time.sleep(3)\n",
    "    driver.back()"
   ]
  },
  {
   "cell_type": "markdown",
   "id": "21b7f274",
   "metadata": {},
   "source": [
    "### List of Followers"
   ]
  },
  {
   "cell_type": "code",
   "execution_count": null,
   "id": "bf1bb73a",
   "metadata": {},
   "outputs": [],
   "source": [
    "text_input = driver.find_element(By.CLASS_NAME,'DljaH')\n",
    "text_input.send_keys('sodelhi')\n",
    "wait = wdw(driver,1000)\n",
    "c = wait.until(ec.presence_of_element_located((By.CLASS_NAME,'-qQT3')))\n",
    "c.click()\n",
    "time .sleep(2)"
   ]
  },
  {
   "cell_type": "code",
   "execution_count": null,
   "id": "3f6baaa0",
   "metadata": {},
   "outputs": [],
   "source": [
    "followers = driver.find_element(By.PARTIAL_LINK_TEXT,'followers')\n",
    "followers.click()\n",
    "wait.until(ec.presence_of_element_located((By.CLASS_NAME,'se6yk')))"
   ]
  },
  {
   "cell_type": "code",
   "execution_count": null,
   "id": "4397e6ea",
   "metadata": {},
   "outputs": [],
   "source": [
    "while True:\n",
    "    try:\n",
    "        sodelhi=[]\n",
    "        count=0\n",
    "        while True:\n",
    "            elements=driver.find_elements(By.XPATH,'//a[contains(@class, \"notranslate\")]')\n",
    "            if len(elements)<500:\n",
    "                waiter=wait.until(ec.presence_of_element_located((By.XPATH, '//ul[contains(@class, \"jSC57\")]')))\n",
    "                driver.execute_script('arguments[0].scrollIntoView(0, 100);', driver.find_element(By.XPATH,'//ul[contains(@class, \"jSC57\")]'))\n",
    "                time.sleep(0.8)\n",
    "            i=elements[count]\n",
    "            count+=1\n",
    "            sodelhi.append(i.get_attribute('innerHTML'))\n",
    "            if len(sodelhi)>=500:\n",
    "                break\n",
    "        break\n",
    "    except StaleElementReferenceException:\n",
    "        continue"
   ]
  },
  {
   "cell_type": "code",
   "execution_count": null,
   "id": "18e65c6c",
   "metadata": {},
   "outputs": [],
   "source": [
    "for i in sodelhi:\n",
    "    data = bs(i,'html.parser')\n",
    "    print(data.get_text())\n",
    "len(sodelhi)"
   ]
  },
  {
   "cell_type": "code",
   "execution_count": null,
   "id": "3033956d",
   "metadata": {},
   "outputs": [],
   "source": [
    "driver.back()\n",
    "wait.until(ec.presence_of_element_located((By.CLASS_NAME,'DljaH')))"
   ]
  },
  {
   "cell_type": "markdown",
   "id": "1ad172c7",
   "metadata": {},
   "source": [
    "### List of followers being followed and not following"
   ]
  },
  {
   "cell_type": "code",
   "execution_count": null,
   "id": "a1e91760",
   "metadata": {},
   "outputs": [],
   "source": [
    "text_input = driver.find_element(By.CLASS_NAME,'DljaH')\n",
    "text_input.send_keys('foodtalkindia')\n",
    "wait = wdw(driver,1000)\n",
    "c = wait.until(ec.presence_of_element_located((By.CLASS_NAME,'-qQT3')))\n",
    "c.click()\n",
    "time .sleep(2)"
   ]
  },
  {
   "cell_type": "code",
   "execution_count": null,
   "id": "601f3954",
   "metadata": {},
   "outputs": [],
   "source": [
    "wait.until(ec.presence_of_element_located((By.PARTIAL_LINK_TEXT,'followers')))\n",
    "followers = driver.find_element(By.PARTIAL_LINK_TEXT,'followers')\n",
    "followers.click()\n",
    "w = wait.until(ec.presence_of_element_located((By.CLASS_NAME,'se6yk')))"
   ]
  },
  {
   "cell_type": "code",
   "execution_count": null,
   "id": "792f24ec",
   "metadata": {},
   "outputs": [],
   "source": [
    "while True:\n",
    "    try:\n",
    "        foodtalkindia=[]\n",
    "        follow = []\n",
    "        count=0\n",
    "        while True:\n",
    "            elements=driver.find_elements(By.XPATH,'//a[contains(@class, \"notranslate\")]')\n",
    "            c = driver.find_elements(By.XPATH,'//div[contains(@class,\"isgrP\")]//button')\n",
    "            if len(elements)<500:\n",
    "                waiter=wait.until(ec.presence_of_element_located((By.XPATH, '//ul[contains(@class, \"jSC57\")]')))\n",
    "                driver.execute_script('arguments[0].scrollIntoView(0, 100);', driver.find_element(By.XPATH,'//ul[contains(@class, \"jSC57\")]'))\n",
    "                time.sleep(0.8)\n",
    "            i=elements[count]\n",
    "            j = c[count]\n",
    "            foodtalkindia.append(i.get_attribute('innerHTML'))\n",
    "            follow.append(j.get_attribute('innerHTML'))\n",
    "            if len(foodtalkindia)>=500:\n",
    "                break\n",
    "            count+=1\n",
    "        break\n",
    "    except StaleElementReferenceException:\n",
    "        continue"
   ]
  },
  {
   "cell_type": "code",
   "execution_count": null,
   "id": "9a76680d",
   "metadata": {},
   "outputs": [],
   "source": [
    "for i in range(len(foodtalkindia)):\n",
    "    data = bs(foodtalkindia[i],'html.parser')\n",
    "    print(data.get_text(),end = ' - ')\n",
    "    data = bs(follow[i],'html.parser')\n",
    "    print(data.get_text())\n"
   ]
  },
  {
   "cell_type": "code",
   "execution_count": null,
   "id": "ffb9cc95",
   "metadata": {},
   "outputs": [],
   "source": [
    "driver.back()\n",
    "wait.until(ec.presence_of_element_located((By.CLASS_NAME,\"NXc7H\")))"
   ]
  },
  {
   "cell_type": "code",
   "execution_count": null,
   "id": "41ec864a",
   "metadata": {},
   "outputs": [],
   "source": [
    "driver.find_element(By.XPATH,'//nav[contains(@class,\"NXc7H\")]//div[contains(@class,\"ybXk5\")]').click()\n",
    "driver.find_element(By.XPATH,'//button[contains(@class,\"HoLwm \")]').click()\n",
    "profile = wait.until(ec.presence_of_element_located((By.CLASS_NAME,\"gmFkV\")))\n",
    "profile.click()"
   ]
  },
  {
   "cell_type": "code",
   "execution_count": null,
   "id": "dfa1d072",
   "metadata": {},
   "outputs": [],
   "source": [
    "followers_href = wait.until(ec.presence_of_all_elements_located((By.XPATH,'//ul[contains(@class,\"k9GMp \")]//a[1]//div')))\n",
    "i = str(followers_href[0].text)\n",
    "a = i.split()\n",
    "total_followers = int(a[0])\n",
    "followers_href[0].click()"
   ]
  },
  {
   "cell_type": "code",
   "execution_count": null,
   "id": "8036a9bc",
   "metadata": {},
   "outputs": [],
   "source": [
    "while True:\n",
    "    try:\n",
    "        myfollowers = []\n",
    "        count=0\n",
    "        while True:\n",
    "            elements=driver.find_elements(By.XPATH,'//a[contains(@class, \"notranslate\")]')\n",
    "            if len(elements)<=total_followers:\n",
    "                waiter=wait.until(ec.presence_of_element_located((By.XPATH, '//ul[contains(@class, \"jSC57\")]')))\n",
    "                driver.execute_script('arguments[0].scrollIntoView(0, 100);', driver.find_element(By.XPATH,'//ul[contains(@class, \"jSC57\")]'))\n",
    "                time.sleep(0.8)\n",
    "            i=elements[count]\n",
    "            myfollowers.append(i.get_attribute('innerHTML'))\n",
    "            if len(myfollowers)>=total_followers:\n",
    "                break\n",
    "            count+=1\n",
    "        break\n",
    "    except StaleElementReferenceException:\n",
    "        continue"
   ]
  },
  {
   "cell_type": "code",
   "execution_count": null,
   "id": "8c9e3b05",
   "metadata": {},
   "outputs": [],
   "source": [
    "total_followers"
   ]
  },
  {
   "cell_type": "code",
   "execution_count": null,
   "id": "385bdd89",
   "metadata": {},
   "outputs": [],
   "source": [
    "for i in myfollowers:\n",
    "    data = bs(i,'html.parser')\n",
    "    print(data.get_text())"
   ]
  },
  {
   "cell_type": "code",
   "execution_count": null,
   "id": "b08f1797",
   "metadata": {},
   "outputs": [],
   "source": [
    "driver.back()"
   ]
  },
  {
   "cell_type": "code",
   "execution_count": null,
   "id": "b2db505f",
   "metadata": {},
   "outputs": [],
   "source": [
    "food_followers = []\n",
    "for i in range(len(foodtalkindia)):\n",
    "    if follow[i] == 'Following':\n",
    "        food_followers.append(foodtalkindia[i])\n",
    "for i in food_followers:\n",
    "    if i not in myfollowers:\n",
    "        data = bs(foodtalkindia[i],'html.parser')\n",
    "        print(data.get_text(),end = ' ')\n",
    "        print(follow[i])\n",
    "        "
   ]
  },
  {
   "cell_type": "markdown",
   "id": "c6a7dbe4",
   "metadata": {},
   "source": [
    "### Checking Stories"
   ]
  },
  {
   "cell_type": "code",
   "execution_count": null,
   "id": "4bcf81a9",
   "metadata": {},
   "outputs": [],
   "source": [
    "text_input = driver.find_element(By.CLASS_NAME,'DljaH')\n",
    "text_input.send_keys('coding.ninjas')\n",
    "wait = wdw(driver,1000)\n",
    "c = wait.until(ec.presence_of_element_located((By.CLASS_NAME,'-qQT3')))\n",
    "c.click()\n",
    "time.sleep(3)"
   ]
  },
  {
   "cell_type": "code",
   "execution_count": null,
   "id": "f6860e87",
   "metadata": {},
   "outputs": [],
   "source": [
    "story = driver.find_element(By.CLASS_NAME,'h5uC0')\n",
    "if story.get_attribute('aria-disabled') == 'true':\n",
    "    print('There is no story')\n",
    "elif story.get_attribute('aria-disabled') == 'false':\n",
    "    if(driver.find_element(By.XPATH,'//div[contains(@class,\"h5uC0\")]/canvas').get_attribute('height')) == '168':\n",
    "        print('Story not viewed.Pls watch!')\n",
    "        story.click()\n",
    "    elif(driver.find_element(By.XPATH,'//div[contains(@class,\"h5uC0\")]/canvas').get_attribute('height')) == '166':\n",
    "        print('Story already viewed.')\n",
    "        \n",
    "        "
   ]
  }
 ],
 "metadata": {
  "kernelspec": {
   "display_name": "Python 3 (ipykernel)",
   "language": "python",
   "name": "python3"
  },
  "language_info": {
   "codemirror_mode": {
    "name": "ipython",
    "version": 3
   },
   "file_extension": ".py",
   "mimetype": "text/x-python",
   "name": "python",
   "nbconvert_exporter": "python",
   "pygments_lexer": "ipython3",
   "version": "3.9.7"
  }
 },
 "nbformat": 4,
 "nbformat_minor": 5
}
