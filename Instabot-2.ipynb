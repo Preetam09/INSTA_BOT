{
 "cells": [
  {
   "cell_type": "markdown",
   "id": "2ea9930a",
   "metadata": {},
   "source": [
    "### Importing required Modules"
   ]
  },
  {
   "cell_type": "code",
   "execution_count": 102,
   "id": "9d42a217",
   "metadata": {},
   "outputs": [],
   "source": [
    "import pandas as pd\n",
    "import numpy as np\n",
    "import matplotlib.pyplot as plt\n",
    "import selenium\n",
    "import time\n",
    "import csv\n",
    "from bs4 import BeautifulSoup as bs\n",
    "from  selenium import webdriver\n",
    "from selenium.webdriver.common.by import By\n",
    "from selenium.webdriver.support.select import Select\n",
    "from selenium.webdriver.support import expected_conditions as ec\n",
    "from selenium.webdriver.support.ui import WebDriverWait as wdw\n",
    "from selenium.common.exceptions import NoSuchElementException\n",
    "from selenium.common.exceptions import StaleElementReferenceException\n"
   ]
  },
  {
   "cell_type": "code",
   "execution_count": 103,
   "id": "3c867d26",
   "metadata": {},
   "outputs": [],
   "source": [
    "driver = webdriver.Chrome() \n",
    "driver.maximize_window()"
   ]
  },
  {
   "cell_type": "code",
   "execution_count": 104,
   "id": "0d2920b4",
   "metadata": {},
   "outputs": [],
   "source": [
    "driver.get('https://www.instagram.com/')\n",
    "wait = wdw(driver,1000)\n",
    "username = wait.until(ec.presence_of_element_located((By.NAME,'username')))\n",
    "password = wait.until(ec.presence_of_element_located((By.NAME,'password')))\n",
    "username.send_keys('saikamal_17')\n",
    "password.send_keys('Saikamal17')"
   ]
  },
  {
   "cell_type": "code",
   "execution_count": 105,
   "id": "24c4e688",
   "metadata": {},
   "outputs": [],
   "source": [
    "logIn = driver.find_elements(By.CLASS_NAME,'sqdOP')\n",
    "logIn[0].submit()"
   ]
  },
  {
   "cell_type": "markdown",
   "id": "2c9492d8",
   "metadata": {},
   "source": [
    "### Extracting usernames with food"
   ]
  },
  {
   "cell_type": "code",
   "execution_count": 106,
   "id": "bcc6ce38",
   "metadata": {},
   "outputs": [],
   "source": [
    "search = wait.until(ec.presence_of_element_located((By.CLASS_NAME,'QY4Ed')))\n",
    "search.click()"
   ]
  },
  {
   "cell_type": "code",
   "execution_count": 107,
   "id": "d23a426f",
   "metadata": {},
   "outputs": [],
   "source": [
    "while True:\n",
    "    try:\n",
    "        driver.find_element(By.XPATH,'//div[contains(@class,\"_43CKF\")]//button').click()\n",
    "        driver.find_element(By.XPATH,'//button[contains(@class,\"Cab_   \")]').click()\n",
    "        break\n",
    "    except NoSuchElementException:\n",
    "        break"
   ]
  },
  {
   "cell_type": "code",
   "execution_count": 108,
   "id": "d57e6911",
   "metadata": {},
   "outputs": [],
   "source": [
    "driver.find_element(By.CLASS_NAME,'XTCLo').send_keys('food')\n",
    "wait.until(ec.presence_of_element_located((By.XPATH,'//a[contains(@class,\"-qQT3\")]')))\n",
    "usernames = driver.find_elements(By.XPATH,'//a[contains(@class,\"-qQT3\")]//div[contains(@class,\"uL8Hv\")]')\n"
   ]
  },
  {
   "cell_type": "markdown",
   "id": "bfb53e05",
   "metadata": {},
   "source": [
    "### 1.1 Extracting required usernames and detais"
   ]
  },
  {
   "cell_type": "code",
   "execution_count": 109,
   "id": "14d03b44",
   "metadata": {},
   "outputs": [
    {
     "data": {
      "text/plain": [
       "['dilsefoodie',\n",
       " 'hyderabad.food.diaries',\n",
       " 'foodtalkindia',\n",
       " 'foodies_of_hyd',\n",
       " 'food_detective_01',\n",
       " 'hyderabadifoodreviews',\n",
       " 'food',\n",
       " 'delhifoodwalks',\n",
       " 'foodwala_official',\n",
       " 'houseofgravies_india']"
      ]
     },
     "execution_count": 109,
     "metadata": {},
     "output_type": "execute_result"
    }
   ],
   "source": [
    "users = []\n",
    "for i in range(0,len(usernames)):\n",
    "    name = usernames[i].text\n",
    "    if name[0] != '#' and len(users)<10:\n",
    "        users.append(name)\n",
    "        \n",
    "users"
   ]
  },
  {
   "cell_type": "code",
   "execution_count": 110,
   "id": "5a107efa",
   "metadata": {},
   "outputs": [],
   "source": [
    "driver.find_element(By.CLASS_NAME,'coreSpriteSearchClear').click()"
   ]
  },
  {
   "cell_type": "code",
   "execution_count": 111,
   "id": "e2cf7099",
   "metadata": {},
   "outputs": [
    {
     "data": {
      "text/plain": [
       "['967,058',\n",
       " '167,564',\n",
       " '307,821',\n",
       " '62,368',\n",
       " '11,903',\n",
       " '114,622',\n",
       " '967,058',\n",
       " '159,662',\n",
       " '12,056',\n",
       " '104']"
      ]
     },
     "execution_count": 111,
     "metadata": {},
     "output_type": "execute_result"
    }
   ],
   "source": [
    "followers = []\n",
    "for i in users:\n",
    "    #driver.find_element(By.XPATH,'//span[contains(@class, \"TqC_a\")]').click()\n",
    "    driver.find_element(By.XPATH,'//input[contains(@class, \"XTCLo\")]').send_keys(i)\n",
    "    wait.until(ec.presence_of_element_located((By.XPATH, \"//a[@class='-qQT3']\")))\n",
    "    time.sleep(1)\n",
    "    driver.find_element(By.XPATH,'//a[@class=\"-qQT3\"]//div[contains(@class,\"uL8Hv\")]').click()\n",
    "    time.sleep(3)\n",
    "    wait.until(ec.presence_of_element_located((By.XPATH, '//ul[@class=\"k9GMp \"]//a[1]')))\n",
    "    followers.append(driver.find_element(By.XPATH,'//ul[@class=\"k9GMp \"]//a[1]//span').get_attribute('title'))\n",
    "\n",
    "    \n",
    "    \n",
    "followers    "
   ]
  },
  {
   "cell_type": "code",
   "execution_count": 112,
   "id": "17f0c218",
   "metadata": {},
   "outputs": [
    {
     "data": {
      "text/plain": [
       "(['dilsefoodie',\n",
       "  'foodtalkindia',\n",
       "  'hyderabad.food.diaries',\n",
       "  'delhifoodwalks',\n",
       "  'hyderabadifoodreviews'],\n",
       " [967058, 307821, 167564, 159662, 114622])"
      ]
     },
     "execution_count": 112,
     "metadata": {},
     "output_type": "execute_result"
    }
   ],
   "source": [
    "d={}\n",
    "for i in range(len(users)):\n",
    "    j = int(followers[i].replace(',',''))\n",
    "    d[users[i]] = j \n",
    "del d['food']\n",
    "top_users = []\n",
    "top_followers = []\n",
    "follow = list(d.values())\n",
    "follow.sort(reverse = True)\n",
    "for i in follow:\n",
    "    for j in d :\n",
    "        if d[j] ==i and len(top_users)<5:\n",
    "            top_users.append(j)\n",
    "            top_followers.append(i)\n",
    "top_users,top_followers"
   ]
  },
  {
   "cell_type": "markdown",
   "id": "590a45b8",
   "metadata": {},
   "source": [
    "### 1.2 No of Posts posted in the past 3 days"
   ]
  },
  {
   "cell_type": "code",
   "execution_count": 113,
   "id": "e5282139",
   "metadata": {},
   "outputs": [
    {
     "name": "stdout",
     "output_type": "stream",
     "text": [
      "dilsefoodie has posted 2 posts in the past 3 days\n",
      "foodtalkindia has posted 2 posts in the past 3 days\n",
      "hyderabad.food.diaries has posted 0 posts in the past 3 days\n",
      "delhifoodwalks has posted 6 posts in the past 3 days\n",
      "hyderabadifoodreviews has posted 0 posts in the past 3 days\n"
     ]
    }
   ],
   "source": [
    "posts_time = []\n",
    "for i in top_users:\n",
    "    #driver.find_element(By.XPATH,'//span[contains(@class, \"TqC_a\")]').click()\n",
    "    driver.find_element(By.XPATH,'//input[contains(@class, \"XTCLo\")]').send_keys(i)\n",
    "    driver.implicitly_wait(1)\n",
    "    wait.until(ec.presence_of_element_located((By.XPATH, \"//a[@class='-qQT3']\")))\n",
    "    driver.implicitly_wait(1)\n",
    "    driver.find_element(By.XPATH,'//a[@class=\"-qQT3\"]//div[contains(@class,\"uL8Hv\")]').click()\n",
    "    posts = wait.until(ec.presence_of_all_elements_located((By.XPATH,'//div[contains(@class,\"_9AhH0\")]')))\n",
    "    print(i,end = ' ')\n",
    "    count = 0\n",
    "    for j in driver.find_elements(By.XPATH,'//div[contains(@class,\"_9AhH0\")]'):\n",
    "        j.click()\n",
    "        t = wait.until(ec.presence_of_element_located((By.XPATH,'//time[contains(@class, \"Nzb55\")]')))\n",
    "        #print(t.get_attribute('innerHTML'))\n",
    "        a = t.get_attribute('innerHTML')\n",
    "        if a[1] in ['h','s']:\n",
    "            count += 1\n",
    "        elif a[1] == 'd' and int(a[0])<=3:\n",
    "            count+=1\n",
    "        elif a[1] == 'w':\n",
    "            driver.back()\n",
    "            break\n",
    "        driver.back()\n",
    "    print('has posted',count,'posts in the past 3 days')\n",
    "    posts_time.append(count)\n",
    "        \n",
    "        \n",
    "    \n"
   ]
  },
  {
   "cell_type": "markdown",
   "id": "07888be8",
   "metadata": {},
   "source": [
    "### 1.3 Depecting using plots"
   ]
  },
  {
   "cell_type": "code",
   "execution_count": 114,
   "id": "778b0d4b",
   "metadata": {},
   "outputs": [
    {
     "data": {
      "image/png": "[encoded data removed]",
      "text/plain": [
       "<Figure size 720x504 with 1 Axes>"
      ]
     },
     "metadata": {
      "needs_background": "light"
     },
     "output_type": "display_data"
    },
    {
     "data": {
      "image/png": "[encoded data removed]",
      "text/plain": [
       "<Figure size 720x504 with 1 Axes>"
      ]
     },
     "metadata": {
      "needs_background": "light"
     },
     "output_type": "display_data"
    }
   ],
   "source": [
    "#plotting a graph between those top users and the number of followers\n",
    "plt.figure(figsize=(10, 7))\n",
    "plt.bar(top_users, top_followers, color=['r','b','y','c','g','k'])\n",
    "plt.xticks(rotation=45, size=12)\n",
    "plt.yticks(size=12)\n",
    "plt.title('Users versus numberof followers', size=12)\n",
    "plt.xlabel('users--->', size=12)\n",
    "plt.ylabel('followers--->', size=12)\n",
    "plt.grid()\n",
    "plt.show()\n",
    "\n",
    "#graph between top users and the number of posts\n",
    "plt.figure(figsize=(10, 7))\n",
    "plt.bar(top_users, posts_time, color=['r','b','y','c','g','k'])\n",
    "plt.xticks(rotation=45, size=12)\n",
    "plt.yticks(size=12)\n",
    "plt.title('Users versus number of posts', size=12)\n",
    "plt.xlabel('users--->', size=12)\n",
    "plt.ylabel('number of posts--->', size=12)\n",
    "plt.grid()\n",
    "plt.show()"
   ]
  },
  {
   "cell_type": "markdown",
   "id": "a5744b92",
   "metadata": {},
   "source": [
    "### 2.1 Scrapping the content of posts of above handles with hashtags"
   ]
  },
  {
   "cell_type": "code",
   "execution_count": 115,
   "id": "ae0da026",
   "metadata": {},
   "outputs": [],
   "source": [
    "content = []\n",
    "hashes = []\n",
    "for i in top_users:\n",
    "    #driver.find_element(By.XPATH,'//span[contains(@class, \"TqC_a\")]').click()\n",
    "    driver.find_element(By.XPATH,'//input[contains(@class, \"XTCLo\")]').send_keys(i)\n",
    "    driver.implicitly_wait(1)\n",
    "    wait.until(ec.presence_of_element_located((By.XPATH, \"//a[@class='-qQT3']\")))\n",
    "    driver.implicitly_wait(1)\n",
    "    driver.find_element(By.XPATH,'//a[@class=\"-qQT3\"]//div[contains(@class,\"uL8Hv\")]').click()\n",
    "    posts = wait.until(ec.presence_of_all_elements_located((By.XPATH,'//div[contains(@class,\"_9AhH0\")]')))\n",
    "    count = 0\n",
    "    for j in driver.find_elements(By.XPATH,'//div[contains(@class,\"_9AhH0\")]'):\n",
    "        j.click()\n",
    "        t = wait.until(ec.presence_of_element_located((By.XPATH,'//div[contains(@class,\"C4VMK\")]/span')))\n",
    "        #print(t.get_attribute('innerHTML'))\n",
    "        content.append(t.get_attribute('textContent'))\n",
    "        for k in driver.find_elements(By.XPATH,'//div[contains(@class,\"C4VMK\")]/span/a'):\n",
    "            hashes.append(k.get_attribute('innerHTML'))\n",
    "        count += 1\n",
    "        if count ==10:\n",
    "            driver.back()\n",
    "            break\n",
    "        driver.back()\n",
    "   "
   ]
  },
  {
   "cell_type": "code",
   "execution_count": 116,
   "id": "729dbb2e",
   "metadata": {},
   "outputs": [
    {
     "name": "stdout",
     "output_type": "stream",
     "text": [
      "World's Best Atta Chicken #dilsefoodie #dilsecouple #attachicken\n",
      "_____________________________________________________________________________________________________________________________\n",
      "Jalandhar Series Coming On YouTube 😀. Thanks To @mrpettoosingh And @gurwindersinghvlogs #dilsefoodie #dilsecouple\n",
      "_____________________________________________________________________________________________________________________________\n",
      "Satnamio Ka Parantha Junction At Jalandhar For Special Paper Parantha. #dilsefoodie #dilsecouple\n",
      "_____________________________________________________________________________________________________________________________\n",
      "Aisa Khajoor Jo Sirf 3 Month He Banta Hai Punjab Mai 😃. #dilsefoodie #dilsecouple\n",
      "_____________________________________________________________________________________________________________________________\n",
      "Can Anyone Guess Where We Had This Amazing Delhi Style Chole Bhature In Jalandhar ? #dilsefoodie #dilsecouple #cholebhature\n",
      "_____________________________________________________________________________________________________________________________\n",
      "Anjeer Kulfi At Oberoi Special With @mrpettoosingh @gurwindersinghvlogs Last Day In Jalandhar #dilsefoodie #dilsecouple\n",
      "_____________________________________________________________________________________________________________________________\n",
      "After Waiting Of 1Hour Here It Is 😎.Thank You @mrpettoosingh And @gurwindersinghvlogs For Helping Us For Exploring Jalandhar. #dilsefoodie #dilsecouple\n",
      "_____________________________________________________________________________________________________________________________\n",
      "Kapil Sharma Ka Favourite Dhaba Had This Amazing Lahori Roti Not Naan#dilsefoodie #dilsecouple\n",
      "_____________________________________________________________________________________________________________________________\n",
      "The Oldest Shop In Kashmir For Sheermal more than 75% ppl buy sheermal from here only. Thank You @kashmirfoodgram For helping me to cover this amazing place. #dilsefoodie #dilsecouple\n",
      "_____________________________________________________________________________________________________________________________\n",
      "Local Kashmiri Street Food 😄#dilsefoodie #dilsecouple\n",
      "_____________________________________________________________________________________________________________________________\n",
      "#HotFind #MediterraneanFood Craving the flavours of the Mediterranean? Here are a few eateries in Delhi NCR who’re rediscovering the food of the region! 🥙Comment below and tell us more such places.📝🙌🏼\n",
      "_____________________________________________________________________________________________________________________________\n",
      "We’ve got nothing but mad love for pizza and the classic toppings, but sometimes, don’t you just want go a little crazy? #WorldPizzaDayPineapples, beet pesto, caramelised apples, raisins...which one do you wanna add? 🍕\n",
      "_____________________________________________________________________________________________________________________________\n",
      "Custard Yoghurt Toast: It's like breakfast and dessert, all-in-one. 🍓🫐Drop a comment to tell us if you’re going to try this trend!📸: @ohemgoodnesss\n",
      "_____________________________________________________________________________________________________________________________\n",
      "We might be going back to office, but I refuse to do morning meetings without my fruit loops. #MondayMotivation📸: @gabbois\n",
      "_____________________________________________________________________________________________________________________________\n",
      "Pretty little Sunday brunch of Burgers 🍔, fries🍟 and bloody marys 🌶🫒 powered by @foodtalkindia @jimmyscocktails @louisburgerofficial This has to be the Sundayest of the Sundays ever! ••••#brunch #sundayfunday #foodie #foodporn #food #breakfast #sunday #delicious #love #instagood #foodphotography #weekend #foodstagram #bacon #burger #sundaybrunch #bloodymary #burgerporn #sundaymorning #brunching #vegan #yum #homemade #lunch #coffee #foodlover #eggs #healthyfood #foodblogger #pancakes\n",
      "_____________________________________________________________________________________________________________________________\n",
      "#BehindTheBarHere’s a list of strawberry cocktails to get you ready for the perfect Sunday at home! 🍓Comment and tell us your go-to recipes!🍷\n",
      "_____________________________________________________________________________________________________________________________\n",
      "#HotFind #GetawayThere’s nothing wrong with some chocolates, and flowers on Valentine’s Day, but if you haven’t been getting out much, this year it might be time for a romantic escape for two.\n",
      "_____________________________________________________________________________________________________________________________\n",
      "#HotFind #HotChocolate Hot Chocolate is the answer, no matter what the question is. ☕🍫Comment and tell us your go-to’s as well!🙋🏻‍♀️\n",
      "_____________________________________________________________________________________________________________________________\n",
      "#HotFind #Cocktails #Bar These bars in the capital are serving some mind-blowing cocktails that you need to try out asap!!🙌🏼Comment and tell us what’s your go to cocktail bar in the city?🍸🍹\n",
      "_____________________________________________________________________________________________________________________________\n",
      "#HotFind #Jaipur Legendary eateries with food full of flavour is what Jaipur is all about, here’s a list you need to bookmark right away! ☺️🙌🏼\n",
      "_____________________________________________________________________________________________________________________________\n",
      "Kun❤🧿Alhamdulillah Qubool hai !#Zazu\n",
      "_____________________________________________________________________________________________________________________________\n",
      "If you are a mutton lover then you shouldn't miss this one.ROASTED RAAN WITH RICE.Location : @arabiancorner_official#hyderabadfooddiaries #reelsvideo #mutton #lamb #reelkarofeelkaro #bestfood #food #hyderabadbloggers #foodreels #indianfoodie #streetfoodindia #hyderabadi #reelit #reelslvideo #trendingreels #viralreels  #explorepage  #foodlover  #hyderabad\n",
      "_____________________________________________________________________________________________________________________________\n",
      "It's that time of the year when the food bloggers community of Hyderabad come under one roof to appreciate and help one another for the kind of work they have been contributing on @instagram to make a difference for home grown and international brands. Every year Hyderabad Food Insta Meet happens with a cause. And 4.0 edition was no less. This year we intended to stand with the food industry in promoting the righteous ways that they have been practicing to keep their properties clean, safe and sanitized in these tough Covid situations.Sharing few glimpses from HYDERABAD FOOD INSTA MEET 4.0A humble and heartfelt thank you for the team for coming together and making it a memorable one@forgebreuhous@thesparksoda@brownbearbakers@mon_amehyderabad@redbullindia@mayur_sakkrawal@marksmediacommunications@vibrantpix_photography@creamstone#hyderabadfooddiaries #hyderabadfoodinstameet4 #instameet #hyderabadfoodbloggers\n",
      "_____________________________________________________________________________________________________________________________\n",
      "Part 2 It's that time of the year when the food bloggers community of Hyderabad come under one roof to appreciate and help one another for the kind of work they have been contributing on @instagram to make a difference for home grown and international brands. Every year Hyderabad Food Insta Meet happens with a cause. And 4.0 edition was no less. This year we intended to stand with the food industry in promoting the righteous ways that they have been practicing to keep their properties clean, safe and sanitized in these tough Covid situations.Sharing few glimpses from HYDERABAD FOOD INSTA MEET 4.0A humble and heartfelt thank you for the team for coming together and making it a memorable one@forgebreuhous@thesparksoda@brownbearbakers@mon_amehyderabad@redbullindia@mayur_sakkrawal@marksmediacommunications@vibrantpix_photography@creamstone#hyderabadfooddiaries #hyderabadfoodinstameet4 #instameet #hyderabadfoodbloggers\n",
      "_____________________________________________________________________________________________________________________________\n",
      "@wahhchaap.... Your one stop for all the chaap cravings. They got a long list of varieties to choose from. My favourites were smoked afghani, Achari chaap, Chilli garlic and kfc fried chaap. Their sindhi colony outlet is the newest one. Besides they got 4 branches in the city Himayathnagar, Banjara Hills, Attapur & Financial District , it becomes easy to reach them and relish their chaaps.#hyderabadfooddiaries #chaap #waahchaap #tandoorichaap #love #happiness #hyderabad #food #foodblogger #foodies #foodporn #hyderabadbloggers #foodphotography #indianfoodblogger #foodbloggersofinstagram #foodbloggers #hyderabadfoodbloggers #foodbloggerindia\n",
      "_____________________________________________________________________________________________________________________________\n",
      "Love doing such things ! Will keep doing such things !Step up guys. Do your bit too. It makes a huge difference.BE HUMBLE, BE KIND & SPREAD LOVE ❤#hyderabadfooddiaries #kids #underprivileged #farzicafe #love #happiness #hyderabad #food #foodblogger #foodies #foodporn #hyderabadbloggers #foodphotography #indianfoodblogger #foodbloggersofinstagram #foodbloggers #hyderabadfoodbloggers #foodbloggerindia\n",
      "_____________________________________________________________________________________________________________________________\n",
      "I see you 2022 ! Bring it on !#hyderabadfooddiaries #2022 #newyear #bringiton #love #happiness #hyderabad #food #foodblogger #foodies #foodporn #hyderabadbloggers #foodphotography #indianfoodblogger #foodbloggersofinstagram #foodbloggers #hyderabadfoodbloggers #foodbloggerindia\n",
      "_____________________________________________________________________________________________________________________________\n",
      "Mutton or Chicken Biryani ?What's your favourite one 😍?#paradisebiryani #JashnEkebab@paradisefoodcourt#hyderabadfooddiaries #biryani #chicken #biryanilover #love #happiness #hyderabad #food #foodblogger #foodies #foodporn #hyderabadbloggers #foodphotography #indianfoodblogger #foodbloggersofinstagram #foodbloggers #hyderabadfoodbloggers #foodbloggerindia\n",
      "_____________________________________________________________________________________________________________________________\n",
      "Chai Lovers.. Assemble !Location : Sher E Punjab Dhaba.. Medak Highway.. Towards pocharam dam#hyderabadfooddiaries #chai #wildlife #chailover #love #happiness #hyderabad #food #foodblogger #foodies #foodporn #hyderabadbloggers #foodphotography #indianfoodblogger #foodbloggersofinstagram #foodbloggers #hyderabadfoodbloggers #foodbloggerindia\n",
      "_____________________________________________________________________________________________________________________________\n",
      "Well... Are you a kebab Person or a biryani person ?👇🏻 #paradisebiryani #JashnEkebab #hyderabadfooddiaries #Kebab #biryani #paradise #love #happiness #hyderabad #food #foodblogger #foodies #foodporn #hyderabadbloggers #foodphotography #indianfoodblogger #foodbloggersofinstagram #foodbloggers #hyderabadfoodbloggers #foodbloggerindia\n",
      "_____________________________________________________________________________________________________________________________\n",
      "Run by Gyandeep Mahila SHG, the Garh Kalewa is a famous food court that serves authentic Chhattisgarhi cuisine at affordable prices. The place is thoughtfully done with elements taken from the Chhattisgarhi way of life. The menu consists of traditional homestyle fares. Anyone who wants to experience authentic Chhattisgarhi dishes at one place must pay a visit to this place. Let’s take you through the dishes that we tried.1. Assorted sweets consisting of arsa, khurmi, khaja and curry ladoo. 2. Chawal ka chila with patal mirch chutney. 3. Bafori. 4. Mada Pitha\n",
      "_____________________________________________________________________________________________________________________________\n",
      "Meetha Paan & Gale Ka Paan from Santosh Paan Shop in MorenaWatch the full episode on our YouTube channel#dfwinmorena #paan #meethapaan#herbalpaan #walkwithanubhav\n",
      "_____________________________________________________________________________________________________________________________\n",
      "Raipur's Shri Siddhivinayak Sadar Idli Corner is an institution when it comes to South Indian food. At the genial and spirited owner's recommendation, here we tried the idli vada with sambar and coconut chutney. Both the idli and the vada were absolutely perfect in texture. The Sambar, made with an array of warming spices, was distinctively flavourful, comforting and slightly sweet. We also paid a quick visit to the restaurant's kitchen situated in the front yard of the owner's home. It was a bustling space full of crazy action and irresistible aroma.#dfwnraipur #raipurstreetfood #raipurfoodtour #raipurfood #idli #sambar #southindianfood #dfwinchhattisgarh #chhattishgarh #chhattishgarhfoodtour #chhattishgarhicuisine #chhattisgarhifood #foodwalkswithanubhav #delhifoodwalks #foodwalks #foodtour #travelforfood\n",
      "_____________________________________________________________________________________________________________________________\n",
      "Raipur Non Veg Food Tour episode is now out on our YouTube channel. Watch now to enjoy the drooling details of some meat and egg dishes that have been ruling the hearts of non veg lovers from the city.Link is in bio so happy viewing.\n",
      "_____________________________________________________________________________________________________________________________\n",
      "Stay tuned for today's YouTube episode where we along with our dynamic host @luzinakhan will be taking you on a fascinating non vegetarian food tour across the bustling city Raipur. Video will be up at 9 PM tonight.#dfwnraipur #raipurstreetfood #raipurfoodtour #raipurfood #dfwinchhattisgarh #chhattishgarh #chhattishgarhfoodtour #chhattishgarhicuisine #chhattisgarhifood #foodwalkswithanubhav #delhifoodwalks #foodwalks #foodtour #travelforfood\n",
      "_____________________________________________________________________________________________________________________________\n",
      "Bengali style sweets from Radha Sweets in Saraidhela, Dhanbad. Watch the Dhanbad Food Tour episode on our YouTube channel for more details. #indiansweets #bengalisweets#mithai #dhanbad #sweetshop#walkwithanubhav\n",
      "_____________________________________________________________________________________________________________________________\n",
      "Chur Chur Naan platter from Raju Chur Chur Naan in Janakpuri. Watch the full episode on our YouTube channel. #churchurnaan #naan #delhistreetfood #breakfast #naan #walkwithanubhav\n",
      "_____________________________________________________________________________________________________________________________\n",
      "An inviting raj kachori from Bombay Sweets & Snacks at Saraidhela, Dhanbad. Do watch the full episode on YouTube for more details. #dhanbad #streetfoodtour #lipsmacking #chaat #rajkachori #walkwithanubhav\n",
      "_____________________________________________________________________________________________________________________________\n",
      "Unique Cheese Chilli from Punjabi Food Express in Ranchi. For more details do check out the Ranchi Snacks Food Tour episode on our YouTube channel. #dfwinranchi #ranchistreetfood #cheesechilli #streetfood #walkwithanubhav\n",
      "_____________________________________________________________________________________________________________________________\n",
      "Check out our new episode on YouTube that brings you the stories of a few amazing socially conscious eateries in Raipur, Chhattisgarh that are winning the hearts of the locals and visitors with their great service and inspiring pursuit. We had a memorable time exploring these places with our host @raipurfood_byoraLink is in bio@tapriichakafeofficial@giiggles_bebak_hasi\n",
      "_____________________________________________________________________________________________________________________________\n",
      "Probably the best Fry piece Biryani in Hyderabad. @therajamahendra Raja Mahendra Biryanis- An eatery which was recently started beside More super market, Nizampet, Hyderabad. It was spicy and delicious, even the dum cooked Bagara rice was flavourful. Raja Mahendra Fry Piece Biryani(for 2 persons): price:160 INR, Taste:4.5/5For more interesting food reviews follow and support:@hyderabadifoodreviews @hyderabadifoodreviews #HFR #hyderabadifoodreviews #food #foodlove #foodie #hyderabad #hyderabadfoodlove #biryani #fry #chicken #nonveg #spicy #andhra #andhrafood #biryanilovers #reels #reel #reelsinstagram #foodreels #instagood #instadaily #explore #fyp #shotoniphone\n",
      "_____________________________________________________________________________________________________________________________\n",
      "Jay Jalaram Mini Burger center serving Butter Dabeli from 26 years. 📍 Beside Al Saba restaurant, Y junction, Moosapet, Hyderabad. Price:25 INR, Taste:4/5For more interesting food reviews follow and support:@hyderabadifoodreviews @hyderabadifoodreviews #HFR #hyderabadifoodreviews #food #foodlove #dabeli #veg #vegetarian #snack #kukatpally #hyderabad #hyderabadifood #reels #reel #reelsinstagram #instafood #instagood #northindianfood #snacks #foodreels #explore #fyp #shotoniphone\n",
      "_____________________________________________________________________________________________________________________________\n",
      "Visited Urban Beats located at Karmanghat, Hyderabad. @urbanbeatsfamilybar A Well maintained, spacious Bar and Kitchen with quite quick service. Good Ambience and Good food. Must try: Bheja fry and pav, Peri peri chicken, Wasabi Chicken. Prices: Around 200 per dish. Taste:4.5/5For more interesting food reviews follow and support:@hyderabadifoodreviews @hyderabadifoodreviews #HFR #hyderabadifoodreviews #food #foodlove #foodlovers #hyderabad #karmanghat #bar #kitchen #urbanbeats #urban #beats #chicken #nonveg #fish #bheja #mutton #wasabi #wings #chickenwings #paneer #periperi #starters #weekend #explore #fyp #shotoniphone\n",
      "_____________________________________________________________________________________________________________________________\n",
      "@crispycrustpnm a smalleatery in Lakdikapul located right below Metro station.This is a pure veg place that serves amazing fruit creams and savouries. Inframe: Cheese garlic breadPrice: 160 INR, Taste:4.7/5Veg. BurgerPrice: 120 INR, Taste:4.5/5Fruit creamPrice:210 INR, Taste:4.3/5For more interesting food reviews follow and support:@hyderabadifoodreviews @hyderabadifoodreviews #HFR #hyderabadifoodreviews #food #foodlove #foodlovers #hyderabad #hyderabadifood #crispy #crust #garlicbread #cheese #cheesegarlicbread #desserts #pizza #burger #vegetarian #foodstagram #instagood #instadaily #explore #fyp #shotoniphone\n",
      "_____________________________________________________________________________________________________________________________\n",
      "Chicken shawarma without salad (Rumali) from Shawarma Habibi (cloud kitchen) located in Madhapur, Hyderabad. @shawarma_habibi_ Price:105 INR, Taste:4/5For more interesting food reviews follow and support:@hyderabadifoodreviews @hyderabadifoodreviews #HFR #hyderabadifoodreviews #food #foodlove #foodlovers #shawarma #chickenshawarma #chicken #nonveg #pushpa #thaggedhele #offer #shawarmalovers #chickenrecipes #foodstagram #instagood #instafood #instadaily #reels #reel #explore #fyp #shotoniphone\n",
      "_____________________________________________________________________________________________________________________________\n",
      "Idly and vada from Lingaiah Tiffin center located in Mallepally, Hyderabad. Do experience it for their spicy chutney. Price: 25 INR Taste:4.7/5 For more interesting food reviews follow and support:@hyderabadifoodreviews @hyderabadifoodreviews #HFR #hyderabadifoodreviews #food #foodlove #hyderabad #idly #vada #breakfast #morning #explore #fyp #shotoniphone\n",
      "_____________________________________________________________________________________________________________________________\n",
      "CHICKEN JOINT LEG PIECE BIRYANI from SattiBabu Biryani located at Pillar no - 895, Moosapet, Hyderabad, Telangana. @sattibabu_biryani Price: 220 INR (It’s more like pulao or Bagara rice with chicken fry than Hyderabadi Dum Biryani)For more interesting food reviews follow and support:@hyderabadifoodreviews @hyderabadifoodreviews #HFR #hyderabadifoodreviews #food #foodlovers #foodlove #biryani #chickenbiryani #chicken #biryanilovers #biryanilove #pulao #andhrapradesh #hyderabadi #hyderabadfood #hyderabad #explore #fyp #shotoniphone\n",
      "_____________________________________________________________________________________________________________________________\n",
      "Mulberry Malai or Shahdood Malai from Sri Narsing Chat located at Boggulakunta X Roads, Ram koti, Abids, Hyderabad. Price:150 INR, Taste:3.5/5For more interesting food reviews follow and support:@hyderabadifoodreviews @hyderabadifoodreviews #HFR #hyderabadifoodreviews #food #goodfood #foodlove #foodlovers #shahdood #malai #mulberry #sweet #dessert #dessertsofinstagram #instafood #foodreels #instagood #naanpizhai #narsing #abids #hyderabadifood #hyderabad #explore #fyp #shotoniphone\n",
      "_____________________________________________________________________________________________________________________________\n",
      "Happy sankranthi 💛Sri kanya parcels and services was established in the year 2000 at Punjagutta. Over the past 22 years Sri Kanya has became a popular place for their Telugu cuisine.In 2014, they had setup their only dine-In outlet located at Kondapur. Sri Kanya's delicacies are made just the way traditional Telugu delicacies are meant to be cooked. some of the must haves @srikanyaofficial are: - Fish Tikka- Mutton RR- Mango chicken- Chicken sambar rice- Chicken fry piece biryani. For more interesting food reviews follow and support:@hyderabadifoodreviews @hyderabadifoodreviews #HFR #hyderabadifoodreviews #food #foodlove #foodie #foodlovers #goodfood #foodreels #foodreels #southindianfood #southindiancuisine #chicken #mutton #fish #vegetarian #nonveg #seafood #telugu #biryani #sambar #rice #starters #andhrafood #hyderabad #hyderabadifood #srikanya #explore #fyp #shotoniphone\n",
      "_____________________________________________________________________________________________________________________________\n",
      "@deccan_kitchen a fine dine restaurant located at Film Nagar serves Hyderabadi Cuisine. With the great ambiance and decor this is a perfect place to dine in with soothing music. Inframe: •Tandoori Chicken Salad-280 INR. •kebab e Bannu-415 INR. •Shami Kebab-480 INR. •Mutton Barra Kebab-580 INR. •Baluchi Tandoori Aloo-350 INR. •Dahi ke kebab-350 INR. •Tawa murgg Khatta Pyaaz -430 INR. •Rara Gosht-480 INR. •Malai Qubani Kofta -380 INR. •Gosht e Biryani-490 INR. •Assorted Bread Basket-250 INR. •Qubani ka meetha-180 INR. •paan ka gulab jamun-180 INR. •Deccan Kitchen Special Semiya Delight -180 INR. Overall rating: 4.4/5For more interesting food reviews follow and support:@hyderabadifoodreviews @hyderabadifoodreviews #HFR #hyderabadifoodreviews #food #foodlove #deccan #hyderabad #hyderabadicuisine  #hyderabadifood #nonveg #mutton #muttonbiryani #kebab #kebabs #tandoor #kitchen #biryani #kofta #shami #explore #fyp #shotoniphone\n",
      "_____________________________________________________________________________________________________________________________\n"
     ]
    }
   ],
   "source": [
    "for i in content:\n",
    "    print(i)\n",
    "    print('_____________________________________________________________________________________________________________________________')"
   ]
  },
  {
   "cell_type": "markdown",
   "id": "4833c659",
   "metadata": {},
   "source": [
    "### 2.2,2.3 Csv file containing words and there frequency"
   ]
  },
  {
   "cell_type": "code",
   "execution_count": null,
   "id": "3b09ff42",
   "metadata": {},
   "outputs": [],
   "source": [
    "d= {}\n",
    "for i in content:\n",
    "    for j in i.split():\n",
    "        if '@' not in j  and '#' not in j:\n",
    "            d[j] = d.get(j,0)+1\n",
    "df = pd.DataFrame()\n",
    "df['Words'] = list(d.keys())\n",
    "df['Frequency'] = list(d.values())\n",
    "df.to_csv('WordFrequrncy.csv',index = False)"
   ]
  },
  {
   "cell_type": "markdown",
   "id": "bfb2d2ba",
   "metadata": {},
   "source": [
    "### 2.4 Hastags used by bloggers"
   ]
  },
  {
   "cell_type": "code",
   "execution_count": 117,
   "id": "f9ca7fad",
   "metadata": {},
   "outputs": [
    {
     "name": "stdout",
     "output_type": "stream",
     "text": [
      "#food ---> 21\n",
      "#hyderabad ---> 16\n",
      "#dilsefoodie ---> 10\n",
      "#fyp ---> 10\n",
      "#shotoniphone ---> 10\n",
      "#foodlove ---> 10\n",
      "#hyderabadifoodreviews ---> 10\n",
      "#HFR ---> 10\n",
      "#explore ---> 10\n",
      "#dilsecouple ---> 10\n",
      "#hyderabadfooddiaries ---> 9\n",
      "#foodporn ---> 8\n",
      "#foodblogger ---> 8\n",
      "#hyderabadfoodbloggers ---> 8\n",
      "#foodphotography ---> 7\n",
      "#foodies ---> 7\n",
      "#hyderabadbloggers ---> 7\n",
      "#love ---> 7\n",
      "#indianfoodblogger ---> 6\n",
      "#foodreels ---> 6\n",
      "#chicken ---> 6\n",
      "#biryani ---> 6\n",
      "#watch_hyd_world ---> 6\n",
      "#foodbloggersofinstagram ---> 6\n",
      "#instagood ---> 6\n",
      "#foodbloggers ---> 6\n",
      "#happiness ---> 6\n",
      "#foodbloggerindia ---> 6\n",
      "#foodlovers ---> 6\n",
      "#hyderabadifood ---> 5\n",
      "#HotFind ---> 5\n",
      "#nonveg ---> 5\n",
      "#walkwithanubhav ---> 5\n",
      "#foodie ---> 5\n",
      "#mutton ---> 4\n",
      "#reel ---> 3\n",
      "#foodtalk ---> 3\n",
      "#Zazu ---> 3\n",
      "#foodtalkindia ---> 3\n",
      "#breakfast ---> 3\n",
      "#instafood ---> 3\n",
      "#foodstagram ---> 3\n",
      "#vegetarian ---> 3\n",
      "#instadaily ---> 3\n",
      "#reels ---> 3\n",
      "#andhrafood ---> 2\n",
      "#dhanbad ---> 2\n",
      "#biryanilovers ---> 2\n",
      "#bar ---> 2\n",
      "#naan ---> 2\n",
      "#chhattishgarhicuisine ---> 2\n",
      "#travelforfood ---> 2\n",
      "#foodtour ---> 2\n",
      "#instameet ---> 2\n",
      "#hyderabadfoodinstameet4 ---> 2\n",
      "#paradisebiryani ---> 2\n",
      "#JashnEkebab ---> 2\n",
      "#hyderabadi ---> 2\n",
      "#dfwnraipur ---> 2\n",
      "#raipurstreetfood ---> 2\n",
      "#raipurfoodtour ---> 2\n",
      "#raipurfood ---> 2\n",
      "#sambar ---> 2\n",
      "#dfwinchhattisgarh ---> 2\n",
      "#chhattishgarh ---> 2\n",
      "#chhattishgarhfoodtour ---> 2\n",
      "#chhattisgarhifood ---> 2\n",
      "#foodwalkswithanubhav ---> 2\n",
      "#delhifoodwalks ---> 2\n",
      "#foodwalks ---> 2\n",
      "#southindianfood ---> 2\n",
      "#reelsinstagram ---> 2\n",
      "#burger ---> 2\n",
      "#drinking ---> 2\n",
      "#goodfood ---> 2\n",
      "#weekend ---> 2\n",
      "#fti ---> 2\n",
      "#starters ---> 2\n",
      "#kitchen ---> 2\n",
      "#drinks ---> 2\n",
      "#drink ---> 2\n",
      "#foodlover ---> 2\n",
      "#fish ---> 2\n",
      "#sundaymorning ---> 1\n",
      "#burgerporn ---> 1\n",
      "#trendingreels ---> 1\n",
      "#bloodymary ---> 1\n",
      "#brunching ---> 1\n",
      "#vegan ---> 1\n",
      "#indianfoodie ---> 1\n",
      "#streetfoodindia ---> 1\n",
      "#yum ---> 1\n",
      "#sundaybrunch ---> 1\n",
      "#reelit ---> 1\n",
      "#reelslvideo ---> 1\n",
      "#waahchaap ---> 1\n",
      "#viralreels ---> 1\n",
      "#explorepage ---> 1\n",
      "#bestfood ---> 1\n",
      "#bacon ---> 1\n",
      "#delicious ---> 1\n",
      "#sunday ---> 1\n",
      "#sundayfunday ---> 1\n",
      "#brunch ---> 1\n",
      "#MuchLove ---> 1\n",
      "#MondayMotivation ---> 1\n",
      "#WorldPizzaDay ---> 1\n",
      "#MediterraneanFood ---> 1\n",
      "#lovekashmir ---> 1\n",
      "#cholebhature ---> 1\n",
      "#attachicken ---> 1\n",
      "#homemade ---> 1\n",
      "#healthyfood ---> 1\n",
      "#lunch ---> 1\n",
      "#coffee ---> 1\n",
      "#cocktails ---> 1\n",
      "#Bar ---> 1\n",
      "#Cocktails ---> 1\n",
      "#cocktail ---> 1\n",
      "#bars ---> 1\n",
      "#delhi ---> 1\n",
      "#hotfind ---> 1\n",
      "#delhiblogger ---> 1\n",
      "#Jaipur ---> 1\n",
      "#foodiesofindia ---> 1\n",
      "#jaipur ---> 1\n",
      "#foodguide ---> 1\n",
      "#foodgram ---> 1\n",
      "#foodism ---> 1\n",
      "#chocolatelover ---> 1\n",
      "#ZaZu ---> 1\n",
      "#india ---> 1\n",
      "#reelsvideo ---> 1\n",
      "#chocolate ---> 1\n",
      "#hotchocolate ---> 1\n",
      "#lamb ---> 1\n",
      "#reelkarofeelkaro ---> 1\n",
      "#winter ---> 1\n",
      "#HotChocolate ---> 1\n",
      "#Getaway ---> 1\n",
      "#BehindTheBar ---> 1\n",
      "#pancakes ---> 1\n",
      "#tipple ---> 1\n",
      "#eggs ---> 1\n",
      "#chaap ---> 1\n",
      "#shami ---> 1\n",
      "#tandoorichaap ---> 1\n",
      "#chickenshawarma ---> 1\n",
      "#chickenbiryani ---> 1\n",
      "#morning ---> 1\n",
      "#vada ---> 1\n",
      "#idly ---> 1\n",
      "#chickenrecipes ---> 1\n",
      "#shawarmalovers ---> 1\n",
      "#offer ---> 1\n",
      "#thaggedhele ---> 1\n",
      "#pushpa ---> 1\n",
      "#shawarma ---> 1\n",
      "#pulao ---> 1\n",
      "#pizza ---> 1\n",
      "#desserts ---> 1\n",
      "#cheesegarlicbread ---> 1\n",
      "#cheese ---> 1\n",
      "#garlicbread ---> 1\n",
      "#crust ---> 1\n",
      "#crispy ---> 1\n",
      "#periperi ---> 1\n",
      "#paneer ---> 1\n",
      "#biryanilove ---> 1\n",
      "#andhrapradesh ---> 1\n",
      "#wings ---> 1\n",
      "#seafood ---> 1\n",
      "#tandoor ---> 1\n",
      "#kebabs ---> 1\n",
      "#kebab ---> 1\n",
      "#muttonbiryani ---> 1\n",
      "#hyderabadicuisine ---> 1\n",
      "#deccan ---> 1\n",
      "#srikanya ---> 1\n",
      "#rice ---> 1\n",
      "#telugu ---> 1\n",
      "#southindiancuisine ---> 1\n",
      "#hyderabadfood ---> 1\n",
      "#abids ---> 1\n",
      "#narsing ---> 1\n",
      "#naanpizhai ---> 1\n",
      "#dessertsofinstagram ---> 1\n",
      "#dessert ---> 1\n",
      "#sweet ---> 1\n",
      "#mulberry ---> 1\n",
      "#malai ---> 1\n",
      "#shahdood ---> 1\n",
      "#chickenwings ---> 1\n",
      "#wasabi ---> 1\n",
      "#kids ---> 1\n",
      "#paradise ---> 1\n",
      "#sweetshop ---> 1\n",
      "#mithai ---> 1\n",
      "#bengalisweets ---> 1\n",
      "#indiansweets ---> 1\n",
      "#idli ---> 1\n",
      "#herbalpaan ---> 1\n",
      "#kofta ---> 1\n",
      "#paan ---> 1\n",
      "#dfwinmorena ---> 1\n",
      "#Kebab ---> 1\n",
      "#delhistreetfood ---> 1\n",
      "#chailover ---> 1\n",
      "#wildlife ---> 1\n",
      "#chai ---> 1\n",
      "#biryanilover ---> 1\n",
      "#bringiton ---> 1\n",
      "#newyear ---> 1\n",
      "#2022 ---> 1\n",
      "#farzicafe ---> 1\n",
      "#underprivileged ---> 1\n",
      "#churchurnaan ---> 1\n",
      "#streetfoodtour ---> 1\n",
      "#bheja ---> 1\n",
      "#dabeli ---> 1\n",
      "#beats ---> 1\n",
      "#urban ---> 1\n",
      "#urbanbeats ---> 1\n",
      "#karmanghat ---> 1\n",
      "#snacks ---> 1\n",
      "#northindianfood ---> 1\n",
      "#kukatpally ---> 1\n",
      "#snack ---> 1\n",
      "#veg ---> 1\n",
      "#andhra ---> 1\n",
      "#lipsmacking ---> 1\n",
      "#spicy ---> 1\n",
      "#fry ---> 1\n",
      "#hyderabadfoodlove ---> 1\n",
      "#streetfood ---> 1\n",
      "#cheesechilli ---> 1\n",
      "#ranchistreetfood ---> 1\n",
      "#dfwinranchi ---> 1\n",
      "#rajkachori ---> 1\n",
      "#chaat ---> 1\n",
      "#meethapaan ---> 1\n"
     ]
    }
   ],
   "source": [
    "d = {}\n",
    "for i in hashes:\n",
    "    if i[0] == '#':\n",
    "        d[i] = d.get(i,0)+1\n",
    "\n",
    "hash_tags = np.array(list(d.keys()))\n",
    "frequency = np.array(list(d.values()))\n",
    "hash_tags = hash_tags[np.argsort(frequency)][::-1]\n",
    "frequency = frequency[np.argsort(frequency)][::-1]\n",
    "for i in range(len(hash_tags)):\n",
    "    print(hash_tags[i],end = ' ---> ')\n",
    "    print(frequency[i])"
   ]
  },
  {
   "cell_type": "markdown",
   "id": "6eee34ca",
   "metadata": {},
   "source": [
    "### Pie Chart of the data"
   ]
  },
  {
   "cell_type": "code",
   "execution_count": 118,
   "id": "0834624e",
   "metadata": {},
   "outputs": [
    {
     "data": {
      "image/png": "[encoded data removed]",
      "text/plain": [
       "<Figure size 720x720 with 1 Axes>"
      ]
     },
     "metadata": {},
     "output_type": "display_data"
    }
   ],
   "source": [
    "x=hash_tags[:5]\n",
    "y=frequency[:5]\n",
    "plt.figure(figsize=(10, 10))\n",
    "plt.pie(y, labels=x, autopct='%.2f%%', shadow=True, labeldistance=1.2)\n",
    "plt.title('Pie Chart of the top 5 hashtags ')\n",
    "plt.show()"
   ]
  },
  {
   "cell_type": "markdown",
   "id": "f6ee2d78",
   "metadata": {},
   "source": [
    "### 3.1 Extracting the information about likes for each handle"
   ]
  },
  {
   "cell_type": "code",
   "execution_count": 119,
   "id": "7d335058",
   "metadata": {},
   "outputs": [
    {
     "name": "stdout",
     "output_type": "stream",
     "text": [
      "31157\n",
      "7295\n",
      "9092\n",
      "7033\n",
      "16387\n",
      "5039\n",
      "7587\n",
      "16197\n",
      "5239\n",
      "9921\n",
      "315\n",
      "101\n",
      "401\n",
      "518\n",
      "137\n",
      "311\n",
      "602\n",
      "418\n",
      "522\n",
      "800\n",
      "26698\n",
      "8640\n",
      "4713\n",
      "4896\n",
      "4890\n",
      "6141\n",
      "3473\n",
      "4066\n",
      "4224\n",
      "4624\n",
      "58\n",
      "218\n",
      "537\n",
      "515\n",
      "343\n",
      "315\n",
      "367\n",
      "512\n",
      "327\n",
      "255\n",
      "6300\n",
      "4775\n",
      "3216\n",
      "2798\n",
      "7058\n",
      "3444\n",
      "27545\n",
      "9679\n",
      "1734\n",
      "4094\n"
     ]
    }
   ],
   "source": [
    "likes = []\n",
    "for i in top_users:\n",
    "    #driver.find_element(By.XPATH,'//span[contains(@class, \"TqC_a\")]').click()\n",
    "    driver.find_element(By.XPATH,'//input[contains(@class, \"XTCLo\")]').send_keys(i)\n",
    "    driver.implicitly_wait(1)\n",
    "    wait.until(ec.presence_of_element_located((By.XPATH, \"//a[@class='-qQT3']\")))\n",
    "    driver.implicitly_wait(3)\n",
    "    driver.find_element(By.XPATH,'//a[@class=\"-qQT3\"]//div[contains(@class,\"uL8Hv\")]').click()\n",
    "    time.sleep(2)\n",
    "    posts = wait.until(ec.presence_of_all_elements_located((By.XPATH,'//div[contains(@class,\"_9AhH0\")]')))\n",
    "    like = 0\n",
    "    count = 0\n",
    "    for j in driver.find_elements(By.XPATH,'//div[contains(@class,\"_9AhH0\")]'):\n",
    "        j.click()\n",
    "        try:\n",
    "            wait.until(ec.presence_of_all_elements_located((By.XPATH,'//section[contains(@class,\"ygqzn\")]')))\n",
    "            time.sleep(0.5)\n",
    "            a = driver.find_element(By.XPATH,'//section[contains(@class,\"ygqzn\")]//a//span').text\n",
    "            if a == '':\n",
    "                a = driver.find_element(By.XPATH,'//section[contains(@class,\"ygqzn\")]//div[contains(@class,\"YlhBV\")]/div/a//span').text\n",
    "                h = int(a.replace(',',''))\n",
    "                h = h+1\n",
    "            else:\n",
    "                h = int(a.replace(',',''))\n",
    "        except NoSuchElementException:\n",
    "            wait.until(ec.presence_of_element_located((By.XPATH,'//span[contains(@class,\"vcOH2\")]')))\n",
    "            driver.find_element(By.XPATH,'//span[contains(@class,\"vcOH2\")]').click()\n",
    "            wait.until(ec.presence_of_element_located((By.XPATH,'//div[contains(@class,\"vJRqr\")]/span')))\n",
    "            a = driver.find_element(By.XPATH,'//div[contains(@class,\"vJRqr\")]/span').text\n",
    "            h = int(a.replace(',',''))\n",
    "        like += int(h)\n",
    "        count += 1\n",
    "        if count ==10:\n",
    "            driver.back()\n",
    "            break\n",
    "        driver.back()\n",
    "    likes.append(like)\n",
    "    time.sleep(1)\n",
    "   "
   ]
  },
  {
   "cell_type": "code",
   "execution_count": 120,
   "id": "09b99352",
   "metadata": {
    "scrolled": true
   },
   "outputs": [
    {
     "data": {
      "text/plain": [
       "array([114947,   4125,  72365,   3447,  70643])"
      ]
     },
     "execution_count": 120,
     "metadata": {},
     "output_type": "execute_result"
    }
   ],
   "source": [
    "np_top_users = np.array(top_users)\n",
    "np_top_followers=np.array(top_followers)\n",
    "np_likes = np.array(likes)\n",
    "np_likes"
   ]
  },
  {
   "cell_type": "markdown",
   "id": "de7424ab",
   "metadata": {},
   "source": [
    "### 3.2 Average likes "
   ]
  },
  {
   "cell_type": "code",
   "execution_count": 121,
   "id": "630dc9f0",
   "metadata": {},
   "outputs": [
    {
     "data": {
      "text/plain": [
       "array([11494.7,   412.5,  7236.5,   344.7,  7064.3])"
      ]
     },
     "execution_count": 121,
     "metadata": {},
     "output_type": "execute_result"
    }
   ],
   "source": [
    "np_likes = np_likes/10\n",
    "np_likes"
   ]
  },
  {
   "cell_type": "code",
   "execution_count": 122,
   "id": "6f2922e7",
   "metadata": {},
   "outputs": [
    {
     "data": {
      "text/plain": [
       "array([ 84.13077331, 746.23272727,  23.1553928 , 463.19118074,\n",
       "        16.22552836])"
      ]
     },
     "execution_count": 122,
     "metadata": {},
     "output_type": "execute_result"
    }
   ],
   "source": [
    "np_average = np_top_followers/np_likes\n",
    "np_average"
   ]
  },
  {
   "cell_type": "markdown",
   "id": "045a38e6",
   "metadata": {},
   "source": [
    "### 3.3 Bar graph"
   ]
  },
  {
   "cell_type": "code",
   "execution_count": 123,
   "id": "2538fdbb",
   "metadata": {},
   "outputs": [
    {
     "data": {
      "image/png": "[encoded data removed]",
      "text/plain": [
       "<Figure size 720x504 with 1 Axes>"
      ]
     },
     "metadata": {
      "needs_background": "light"
     },
     "output_type": "display_data"
    }
   ],
   "source": [
    "plt.figure(figsize=(10,7))\n",
    "plt.bar(np_top_users, np_average, color=['r','b','y','c','g','k'])\n",
    "plt.xticks(rotation=45, size=12)\n",
    "plt.xlabel('Users---->', size=12)\n",
    "plt.ylabel('Average followers to likes ratio---->', size=12)\n",
    "plt.yticks(size=12)\n",
    "plt.grid()\n",
    "plt.show()"
   ]
  }
 ],
 "metadata": {
  "kernelspec": {
   "display_name": "Python 3 (ipykernel)",
   "language": "python",
   "name": "python3"
  },
  "language_info": {
   "codemirror_mode": {
    "name": "ipython",
    "version": 3
   },
   "file_extension": ".py",
   "mimetype": "text/x-python",
   "name": "python",
   "nbconvert_exporter": "python",
   "pygments_lexer": "ipython3",
   "version": "3.9.7"
  }
 },
 "nbformat": 4,
 "nbformat_minor": 5
}
